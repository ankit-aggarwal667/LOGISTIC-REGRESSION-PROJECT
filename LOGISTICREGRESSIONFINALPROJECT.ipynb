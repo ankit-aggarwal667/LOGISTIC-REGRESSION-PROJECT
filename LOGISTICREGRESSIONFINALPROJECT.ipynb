{
 "cells": [
  {
   "cell_type": "markdown",
   "metadata": {},
   "source": [
    "# Logistic Regression - Titanic Dataset"
   ]
  },
  {
   "cell_type": "markdown",
   "metadata": {},
   "source": [
    "## 1. A Training dataset csv file with X train and Y train data.\n",
    "\n",
    "## 2. A X test File and you have to predict and submit predictions for this file."
   ]
  },
  {
   "cell_type": "code",
   "execution_count": null,
   "metadata": {},
   "outputs": [],
   "source": []
  },
  {
   "cell_type": "code",
   "execution_count": 18,
   "metadata": {},
   "outputs": [
    {
     "name": "stdout",
     "output_type": "stream",
     "text": [
      "[1. 0. 0. 0. 1. 0. 0. 0. 0. 0. 0. 0. 1. 0. 0. 0. 0. 0. 0. 0. 0. 0. 0. 1.\n",
      " 0. 1. 0. 1. 0. 0. 0. 0. 0. 0. 0. 0. 0. 1. 0. 1. 0. 0. 0. 0. 0. 1. 0. 0.\n",
      " 0. 0. 0. 0. 0. 1. 0. 0. 1. 0. 0. 0. 0. 0. 1. 0. 0. 0. 0. 1. 1. 1. 0. 0.\n",
      " 1. 0. 0. 1. 0. 0. 1. 0. 0. 1. 0. 0. 0. 1. 1. 0. 0. 0. 0. 0. 0. 0. 0. 0.\n",
      " 0. 1. 0. 1. 0. 0. 1. 0. 1. 1. 0. 0. 0. 0. 0. 1. 1. 1. 0. 0. 0. 0. 0. 0.\n",
      " 0. 0. 0. 0. 1. 0. 0. 0. 0. 1. 0. 0. 0. 0. 0. 0. 0. 1. 0. 0. 0. 0. 1. 0.\n",
      " 0. 0. 0. 0. 0. 1. 1. 1. 0. 0. 0. 0. 0. 0. 0. 1. 0. 1. 0. 0. 1. 0. 1. 0.\n",
      " 0. 0. 0. 0. 0. 0. 1. 0. 0. 0. 0. 0. 0. 0. 0. 0. 0. 0. 0. 0. 1. 0. 0. 0.\n",
      " 0. 0. 0. 0. 1. 0. 0. 1. 0. 1. 0. 1. 0. 0. 0. 0. 0. 0. 0. 0. 0. 0. 0. 0.\n",
      " 0. 0. 0. 1. 1. 0. 0.]\n"
     ]
    },
    {
     "name": "stderr",
     "output_type": "stream",
     "text": [
      "C:\\Users\\Ankit Aggarwal\\Anaconda3\\lib\\site-packages\\sklearn\\linear_model\\logistic.py:433: FutureWarning: Default solver will be changed to 'lbfgs' in 0.22. Specify a solver to silence this warning.\n",
      "  FutureWarning)\n"
     ]
    }
   ],
   "source": [
    "from sklearn.linear_model import LogisticRegression\n",
    "import numpy as np\n",
    "import pandas as pd\n",
    "iris=pd.read_csv(\"C:/Users/Ankit Aggarwal/Documents/training_titanic_x_y_train.csv\")\n",
    "data1=iris.copy()\n",
    "mean_age=data1.Age.mean()\n",
    "data1.Age.fillna(mean_age,inplace=True)\n",
    "data1.drop('Cabin',inplace=True,axis=1)\n",
    "data1.drop('Embarked',inplace=True,axis=1)\n",
    "data1.drop('Name',inplace=True,axis=1)\n",
    "data1.drop('Sex',inplace=True,axis=1)\n",
    "data1.drop('Ticket',inplace=True,axis=1)\n",
    "iris1=pd.read_csv(\"C:/Users/Ankit Aggarwal/Documents/test_titanic_x_test.csv\")\n",
    "data2=iris1.copy()\n",
    "mean_age=data2.Age.mean()\n",
    "data2.Age.fillna(mean_age,inplace=True)\n",
    "data2.drop('Cabin',inplace=True,axis=1)\n",
    "data2.drop('Embarked',inplace=True,axis=1)\n",
    "data2.drop('Name',inplace=True,axis=1)\n",
    "data2.drop('Sex',inplace=True,axis=1)\n",
    "data2.drop('Ticket',inplace=True,axis=1)\n",
    "m=data1.to_numpy()\n",
    "X_train=m[:,:-1]\n",
    "Y_train=m[:,-1]\n",
    "X_test=data2.to_numpy()\n",
    "clf=LogisticRegression()\n",
    "clf.fit(X_train,Y_train)\n",
    "Y_test_pred=clf.predict(X_test)\n",
    "print(Y_test_pred)\n",
    "np.savetxt(\"C:/Users/Ankit Aggarwal/Documents/final_titanic_final_y_test_pred.csv\",Y_test_pred,delimiter=\",\")"
   ]
  }
 ],
 "metadata": {
  "kernelspec": {
   "display_name": "Python 3",
   "language": "python",
   "name": "python3"
  },
  "language_info": {
   "codemirror_mode": {
    "name": "ipython",
    "version": 3
   },
   "file_extension": ".py",
   "mimetype": "text/x-python",
   "name": "python",
   "nbconvert_exporter": "python",
   "pygments_lexer": "ipython3",
   "version": "3.7.3"
  }
 },
 "nbformat": 4,
 "nbformat_minor": 2
}
